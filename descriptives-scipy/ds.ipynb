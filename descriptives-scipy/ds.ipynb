{
 "cells": [
  {
   "cell_type": "code",
   "execution_count": 16,
   "metadata": {},
   "outputs": [],
   "source": [
    "import pandas as pd\n",
    "import scipy as sp\n",
    "from scipy import stats\n",
    "from pandas.plotting import scatter_matrix\n",
    "import numpy as np\n",
    "import matplotlib.pyplot as plt\n",
    "import urllib.request\n",
    "import os\n",
    "import seaborn\n",
    "import plotly.express as px\n",
    "from statsmodels.formula.api import ols"
   ]
  },
  {
   "cell_type": "code",
   "execution_count": 3,
   "metadata": {},
   "outputs": [],
   "source": [
    "df = pd.read_csv('data/brain_size.csv', sep=';', na_values='.')"
   ]
  },
  {
   "cell_type": "markdown",
   "metadata": {},
   "source": [
    "Exercise1"
   ]
  },
  {
   "cell_type": "code",
   "execution_count": 4,
   "metadata": {},
   "outputs": [
    {
     "data": {
      "text/plain": [
       "VIQ    112.35\n",
       "dtype: float64"
      ]
     },
     "execution_count": 4,
     "metadata": {},
     "output_type": "execute_result"
    }
   ],
   "source": [
    "df[['VIQ']].mean()"
   ]
  },
  {
   "cell_type": "code",
   "execution_count": 5,
   "metadata": {},
   "outputs": [
    {
     "data": {
      "text/html": [
       "<div>\n",
       "<style scoped>\n",
       "    .dataframe tbody tr th:only-of-type {\n",
       "        vertical-align: middle;\n",
       "    }\n",
       "\n",
       "    .dataframe tbody tr th {\n",
       "        vertical-align: top;\n",
       "    }\n",
       "\n",
       "    .dataframe thead th {\n",
       "        text-align: right;\n",
       "    }\n",
       "</style>\n",
       "<table border=\"1\" class=\"dataframe\">\n",
       "  <thead>\n",
       "    <tr style=\"text-align: right;\">\n",
       "      <th></th>\n",
       "      <th>Unnamed: 0</th>\n",
       "      <th>FSIQ</th>\n",
       "      <th>VIQ</th>\n",
       "      <th>PIQ</th>\n",
       "      <th>Weight</th>\n",
       "      <th>Height</th>\n",
       "      <th>MRI_Count</th>\n",
       "    </tr>\n",
       "    <tr>\n",
       "      <th>Gender</th>\n",
       "      <th></th>\n",
       "      <th></th>\n",
       "      <th></th>\n",
       "      <th></th>\n",
       "      <th></th>\n",
       "      <th></th>\n",
       "      <th></th>\n",
       "    </tr>\n",
       "  </thead>\n",
       "  <tbody>\n",
       "    <tr>\n",
       "      <th>Female</th>\n",
       "      <td>20</td>\n",
       "      <td>20</td>\n",
       "      <td>20</td>\n",
       "      <td>20</td>\n",
       "      <td>20</td>\n",
       "      <td>20</td>\n",
       "      <td>20</td>\n",
       "    </tr>\n",
       "    <tr>\n",
       "      <th>Male</th>\n",
       "      <td>20</td>\n",
       "      <td>20</td>\n",
       "      <td>20</td>\n",
       "      <td>20</td>\n",
       "      <td>18</td>\n",
       "      <td>19</td>\n",
       "      <td>20</td>\n",
       "    </tr>\n",
       "  </tbody>\n",
       "</table>\n",
       "</div>"
      ],
      "text/plain": [
       "        Unnamed: 0  FSIQ  VIQ  PIQ  Weight  Height  MRI_Count\n",
       "Gender                                                       \n",
       "Female          20    20   20   20      20      20         20\n",
       "Male            20    20   20   20      18      19         20"
      ]
     },
     "execution_count": 5,
     "metadata": {},
     "output_type": "execute_result"
    }
   ],
   "source": [
    "groupby_gender = df.groupby('Gender')\n",
    "groupby_gender.count()"
   ]
  },
  {
   "cell_type": "code",
   "execution_count": 7,
   "metadata": {},
   "outputs": [],
   "source": [
    "df['MRI_base10'] = np.log10(df['MRI_Count'])"
   ]
  },
  {
   "cell_type": "markdown",
   "metadata": {},
   "source": [
    "Exercise 2"
   ]
  },
  {
   "cell_type": "code",
   "execution_count": 11,
   "metadata": {},
   "outputs": [
    {
     "ename": "ValueError",
     "evalue": "'c' argument has 40 elements, which is inconsistent with 'x' and 'y' with size 39.",
     "output_type": "error",
     "traceback": [
      "\u001b[0;31m---------------------------------------------------------------------------\u001b[0m",
      "\u001b[0;31mValueError\u001b[0m                                Traceback (most recent call last)",
      "File \u001b[0;32m~/opt/anaconda3/lib/python3.9/site-packages/matplotlib/axes/_axes.py:4221\u001b[0m, in \u001b[0;36mAxes._parse_scatter_color_args\u001b[0;34m(c, edgecolors, kwargs, xsize, get_next_color_func)\u001b[0m\n\u001b[1;32m   <a href='file:///Users/miles/opt/anaconda3/lib/python3.9/site-packages/matplotlib/axes/_axes.py?line=4219'>4220</a>\u001b[0m \u001b[39mtry\u001b[39;00m:  \u001b[39m# Is 'c' acceptable as PathCollection facecolors?\u001b[39;00m\n\u001b[0;32m-> <a href='file:///Users/miles/opt/anaconda3/lib/python3.9/site-packages/matplotlib/axes/_axes.py?line=4220'>4221</a>\u001b[0m     colors \u001b[39m=\u001b[39m mcolors\u001b[39m.\u001b[39;49mto_rgba_array(c)\n\u001b[1;32m   <a href='file:///Users/miles/opt/anaconda3/lib/python3.9/site-packages/matplotlib/axes/_axes.py?line=4221'>4222</a>\u001b[0m \u001b[39mexcept\u001b[39;00m (\u001b[39mTypeError\u001b[39;00m, \u001b[39mValueError\u001b[39;00m) \u001b[39mas\u001b[39;00m err:\n",
      "File \u001b[0;32m~/opt/anaconda3/lib/python3.9/site-packages/matplotlib/colors.py:377\u001b[0m, in \u001b[0;36mto_rgba_array\u001b[0;34m(c, alpha)\u001b[0m\n\u001b[1;32m    <a href='file:///Users/miles/opt/anaconda3/lib/python3.9/site-packages/matplotlib/colors.py?line=375'>376</a>\u001b[0m \u001b[39melse\u001b[39;00m:\n\u001b[0;32m--> <a href='file:///Users/miles/opt/anaconda3/lib/python3.9/site-packages/matplotlib/colors.py?line=376'>377</a>\u001b[0m     rgba \u001b[39m=\u001b[39m np\u001b[39m.\u001b[39marray([to_rgba(cc) \u001b[39mfor\u001b[39;00m cc \u001b[39min\u001b[39;00m c])\n\u001b[1;32m    <a href='file:///Users/miles/opt/anaconda3/lib/python3.9/site-packages/matplotlib/colors.py?line=378'>379</a>\u001b[0m \u001b[39mif\u001b[39;00m alpha \u001b[39mis\u001b[39;00m \u001b[39mnot\u001b[39;00m \u001b[39mNone\u001b[39;00m:\n",
      "File \u001b[0;32m~/opt/anaconda3/lib/python3.9/site-packages/matplotlib/colors.py:377\u001b[0m, in \u001b[0;36m<listcomp>\u001b[0;34m(.0)\u001b[0m\n\u001b[1;32m    <a href='file:///Users/miles/opt/anaconda3/lib/python3.9/site-packages/matplotlib/colors.py?line=375'>376</a>\u001b[0m \u001b[39melse\u001b[39;00m:\n\u001b[0;32m--> <a href='file:///Users/miles/opt/anaconda3/lib/python3.9/site-packages/matplotlib/colors.py?line=376'>377</a>\u001b[0m     rgba \u001b[39m=\u001b[39m np\u001b[39m.\u001b[39marray([to_rgba(cc) \u001b[39mfor\u001b[39;00m cc \u001b[39min\u001b[39;00m c])\n\u001b[1;32m    <a href='file:///Users/miles/opt/anaconda3/lib/python3.9/site-packages/matplotlib/colors.py?line=378'>379</a>\u001b[0m \u001b[39mif\u001b[39;00m alpha \u001b[39mis\u001b[39;00m \u001b[39mnot\u001b[39;00m \u001b[39mNone\u001b[39;00m:\n",
      "File \u001b[0;32m~/opt/anaconda3/lib/python3.9/site-packages/matplotlib/colors.py:187\u001b[0m, in \u001b[0;36mto_rgba\u001b[0;34m(c, alpha)\u001b[0m\n\u001b[1;32m    <a href='file:///Users/miles/opt/anaconda3/lib/python3.9/site-packages/matplotlib/colors.py?line=185'>186</a>\u001b[0m \u001b[39mif\u001b[39;00m rgba \u001b[39mis\u001b[39;00m \u001b[39mNone\u001b[39;00m:  \u001b[39m# Suppress exception chaining of cache lookup failure.\u001b[39;00m\n\u001b[0;32m--> <a href='file:///Users/miles/opt/anaconda3/lib/python3.9/site-packages/matplotlib/colors.py?line=186'>187</a>\u001b[0m     rgba \u001b[39m=\u001b[39m _to_rgba_no_colorcycle(c, alpha)\n\u001b[1;32m    <a href='file:///Users/miles/opt/anaconda3/lib/python3.9/site-packages/matplotlib/colors.py?line=187'>188</a>\u001b[0m     \u001b[39mtry\u001b[39;00m:\n",
      "File \u001b[0;32m~/opt/anaconda3/lib/python3.9/site-packages/matplotlib/colors.py:269\u001b[0m, in \u001b[0;36m_to_rgba_no_colorcycle\u001b[0;34m(c, alpha)\u001b[0m\n\u001b[1;32m    <a href='file:///Users/miles/opt/anaconda3/lib/python3.9/site-packages/matplotlib/colors.py?line=267'>268</a>\u001b[0m \u001b[39mif\u001b[39;00m \u001b[39mnot\u001b[39;00m np\u001b[39m.\u001b[39miterable(c):\n\u001b[0;32m--> <a href='file:///Users/miles/opt/anaconda3/lib/python3.9/site-packages/matplotlib/colors.py?line=268'>269</a>\u001b[0m     \u001b[39mraise\u001b[39;00m \u001b[39mValueError\u001b[39;00m(\u001b[39mf\u001b[39m\u001b[39m\"\u001b[39m\u001b[39mInvalid RGBA argument: \u001b[39m\u001b[39m{\u001b[39;00morig_c\u001b[39m!r}\u001b[39;00m\u001b[39m\"\u001b[39m)\n\u001b[1;32m    <a href='file:///Users/miles/opt/anaconda3/lib/python3.9/site-packages/matplotlib/colors.py?line=269'>270</a>\u001b[0m \u001b[39mif\u001b[39;00m \u001b[39mlen\u001b[39m(c) \u001b[39mnot\u001b[39;00m \u001b[39min\u001b[39;00m [\u001b[39m3\u001b[39m, \u001b[39m4\u001b[39m]:\n",
      "\u001b[0;31mValueError\u001b[0m: Invalid RGBA argument: 0.0",
      "\nThe above exception was the direct cause of the following exception:\n",
      "\u001b[0;31mValueError\u001b[0m                                Traceback (most recent call last)",
      "\u001b[1;32m/Users/miles/descriptives-scipy/ds.ipynb Cell 8'\u001b[0m in \u001b[0;36m<cell line: 1>\u001b[0;34m()\u001b[0m\n\u001b[0;32m----> <a href='vscode-notebook-cell:/Users/miles/descriptives-scipy/ds.ipynb#ch0000006?line=0'>1</a>\u001b[0m scatter_matrix(df[[\u001b[39m'\u001b[39;49m\u001b[39mVIQ\u001b[39;49m\u001b[39m'\u001b[39;49m, \u001b[39m'\u001b[39;49m\u001b[39mMRI_Count\u001b[39;49m\u001b[39m'\u001b[39;49m, \u001b[39m'\u001b[39;49m\u001b[39mHeight\u001b[39;49m\u001b[39m'\u001b[39;49m]],\n\u001b[1;32m      <a href='vscode-notebook-cell:/Users/miles/descriptives-scipy/ds.ipynb#ch0000006?line=1'>2</a>\u001b[0m                c\u001b[39m=\u001b[39;49m(df[\u001b[39m'\u001b[39;49m\u001b[39mGender\u001b[39;49m\u001b[39m'\u001b[39;49m] \u001b[39m==\u001b[39;49m \u001b[39m'\u001b[39;49m\u001b[39mMale\u001b[39;49m\u001b[39m'\u001b[39;49m),\n\u001b[1;32m      <a href='vscode-notebook-cell:/Users/miles/descriptives-scipy/ds.ipynb#ch0000006?line=2'>3</a>\u001b[0m                alpha\u001b[39m=\u001b[39;49m\u001b[39m1\u001b[39;49m, cmap\u001b[39m=\u001b[39;49m\u001b[39m'\u001b[39;49m\u001b[39mwinter\u001b[39;49m\u001b[39m'\u001b[39;49m)\n\u001b[1;32m      <a href='vscode-notebook-cell:/Users/miles/descriptives-scipy/ds.ipynb#ch0000006?line=4'>5</a>\u001b[0m fig \u001b[39m=\u001b[39m plt\u001b[39m.\u001b[39mgcf()\n\u001b[1;32m      <a href='vscode-notebook-cell:/Users/miles/descriptives-scipy/ds.ipynb#ch0000006?line=5'>6</a>\u001b[0m fig\u001b[39m.\u001b[39msuptitle(\u001b[39m\"\u001b[39m\u001b[39mblue: male, green: female\u001b[39m\u001b[39m\"\u001b[39m, size\u001b[39m=\u001b[39m\u001b[39m13\u001b[39m)\n",
      "File \u001b[0;32m~/opt/anaconda3/lib/python3.9/site-packages/pandas/plotting/_misc.py:144\u001b[0m, in \u001b[0;36mscatter_matrix\u001b[0;34m(frame, alpha, figsize, ax, grid, diagonal, marker, density_kwds, hist_kwds, range_padding, **kwargs)\u001b[0m\n\u001b[1;32m     <a href='file:///Users/miles/opt/anaconda3/lib/python3.9/site-packages/pandas/plotting/_misc.py?line=84'>85</a>\u001b[0m \u001b[39m\"\"\"\u001b[39;00m\n\u001b[1;32m     <a href='file:///Users/miles/opt/anaconda3/lib/python3.9/site-packages/pandas/plotting/_misc.py?line=85'>86</a>\u001b[0m \u001b[39mDraw a matrix of scatter plots.\u001b[39;00m\n\u001b[1;32m     <a href='file:///Users/miles/opt/anaconda3/lib/python3.9/site-packages/pandas/plotting/_misc.py?line=86'>87</a>\u001b[0m \n\u001b[0;32m   (...)\u001b[0m\n\u001b[1;32m    <a href='file:///Users/miles/opt/anaconda3/lib/python3.9/site-packages/pandas/plotting/_misc.py?line=140'>141</a>\u001b[0m \u001b[39m        <AxesSubplot:xlabel='D', ylabel='D'>]], dtype=object)\u001b[39;00m\n\u001b[1;32m    <a href='file:///Users/miles/opt/anaconda3/lib/python3.9/site-packages/pandas/plotting/_misc.py?line=141'>142</a>\u001b[0m \u001b[39m\"\"\"\u001b[39;00m\n\u001b[1;32m    <a href='file:///Users/miles/opt/anaconda3/lib/python3.9/site-packages/pandas/plotting/_misc.py?line=142'>143</a>\u001b[0m plot_backend \u001b[39m=\u001b[39m _get_plot_backend(\u001b[39m\"\u001b[39m\u001b[39mmatplotlib\u001b[39m\u001b[39m\"\u001b[39m)\n\u001b[0;32m--> <a href='file:///Users/miles/opt/anaconda3/lib/python3.9/site-packages/pandas/plotting/_misc.py?line=143'>144</a>\u001b[0m \u001b[39mreturn\u001b[39;00m plot_backend\u001b[39m.\u001b[39;49mscatter_matrix(\n\u001b[1;32m    <a href='file:///Users/miles/opt/anaconda3/lib/python3.9/site-packages/pandas/plotting/_misc.py?line=144'>145</a>\u001b[0m     frame\u001b[39m=\u001b[39;49mframe,\n\u001b[1;32m    <a href='file:///Users/miles/opt/anaconda3/lib/python3.9/site-packages/pandas/plotting/_misc.py?line=145'>146</a>\u001b[0m     alpha\u001b[39m=\u001b[39;49malpha,\n\u001b[1;32m    <a href='file:///Users/miles/opt/anaconda3/lib/python3.9/site-packages/pandas/plotting/_misc.py?line=146'>147</a>\u001b[0m     figsize\u001b[39m=\u001b[39;49mfigsize,\n\u001b[1;32m    <a href='file:///Users/miles/opt/anaconda3/lib/python3.9/site-packages/pandas/plotting/_misc.py?line=147'>148</a>\u001b[0m     ax\u001b[39m=\u001b[39;49max,\n\u001b[1;32m    <a href='file:///Users/miles/opt/anaconda3/lib/python3.9/site-packages/pandas/plotting/_misc.py?line=148'>149</a>\u001b[0m     grid\u001b[39m=\u001b[39;49mgrid,\n\u001b[1;32m    <a href='file:///Users/miles/opt/anaconda3/lib/python3.9/site-packages/pandas/plotting/_misc.py?line=149'>150</a>\u001b[0m     diagonal\u001b[39m=\u001b[39;49mdiagonal,\n\u001b[1;32m    <a href='file:///Users/miles/opt/anaconda3/lib/python3.9/site-packages/pandas/plotting/_misc.py?line=150'>151</a>\u001b[0m     marker\u001b[39m=\u001b[39;49mmarker,\n\u001b[1;32m    <a href='file:///Users/miles/opt/anaconda3/lib/python3.9/site-packages/pandas/plotting/_misc.py?line=151'>152</a>\u001b[0m     density_kwds\u001b[39m=\u001b[39;49mdensity_kwds,\n\u001b[1;32m    <a href='file:///Users/miles/opt/anaconda3/lib/python3.9/site-packages/pandas/plotting/_misc.py?line=152'>153</a>\u001b[0m     hist_kwds\u001b[39m=\u001b[39;49mhist_kwds,\n\u001b[1;32m    <a href='file:///Users/miles/opt/anaconda3/lib/python3.9/site-packages/pandas/plotting/_misc.py?line=153'>154</a>\u001b[0m     range_padding\u001b[39m=\u001b[39;49mrange_padding,\n\u001b[1;32m    <a href='file:///Users/miles/opt/anaconda3/lib/python3.9/site-packages/pandas/plotting/_misc.py?line=154'>155</a>\u001b[0m     \u001b[39m*\u001b[39;49m\u001b[39m*\u001b[39;49mkwargs,\n\u001b[1;32m    <a href='file:///Users/miles/opt/anaconda3/lib/python3.9/site-packages/pandas/plotting/_misc.py?line=155'>156</a>\u001b[0m )\n",
      "File \u001b[0;32m~/opt/anaconda3/lib/python3.9/site-packages/pandas/plotting/_matplotlib/misc.py:96\u001b[0m, in \u001b[0;36mscatter_matrix\u001b[0;34m(frame, alpha, figsize, ax, grid, diagonal, marker, density_kwds, hist_kwds, range_padding, **kwds)\u001b[0m\n\u001b[1;32m     <a href='file:///Users/miles/opt/anaconda3/lib/python3.9/site-packages/pandas/plotting/_matplotlib/misc.py?line=92'>93</a>\u001b[0m \u001b[39melse\u001b[39;00m:\n\u001b[1;32m     <a href='file:///Users/miles/opt/anaconda3/lib/python3.9/site-packages/pandas/plotting/_matplotlib/misc.py?line=93'>94</a>\u001b[0m     common \u001b[39m=\u001b[39m (mask[a] \u001b[39m&\u001b[39m mask[b])\u001b[39m.\u001b[39mvalues\n\u001b[0;32m---> <a href='file:///Users/miles/opt/anaconda3/lib/python3.9/site-packages/pandas/plotting/_matplotlib/misc.py?line=95'>96</a>\u001b[0m     ax\u001b[39m.\u001b[39;49mscatter(\n\u001b[1;32m     <a href='file:///Users/miles/opt/anaconda3/lib/python3.9/site-packages/pandas/plotting/_matplotlib/misc.py?line=96'>97</a>\u001b[0m         df[b][common], df[a][common], marker\u001b[39m=\u001b[39;49mmarker, alpha\u001b[39m=\u001b[39;49malpha, \u001b[39m*\u001b[39;49m\u001b[39m*\u001b[39;49mkwds\n\u001b[1;32m     <a href='file:///Users/miles/opt/anaconda3/lib/python3.9/site-packages/pandas/plotting/_matplotlib/misc.py?line=97'>98</a>\u001b[0m     )\n\u001b[1;32m    <a href='file:///Users/miles/opt/anaconda3/lib/python3.9/site-packages/pandas/plotting/_matplotlib/misc.py?line=99'>100</a>\u001b[0m     ax\u001b[39m.\u001b[39mset_xlim(boundaries_list[j])\n\u001b[1;32m    <a href='file:///Users/miles/opt/anaconda3/lib/python3.9/site-packages/pandas/plotting/_matplotlib/misc.py?line=100'>101</a>\u001b[0m     ax\u001b[39m.\u001b[39mset_ylim(boundaries_list[i])\n",
      "File \u001b[0;32m~/opt/anaconda3/lib/python3.9/site-packages/matplotlib/__init__.py:1412\u001b[0m, in \u001b[0;36m_preprocess_data.<locals>.inner\u001b[0;34m(ax, data, *args, **kwargs)\u001b[0m\n\u001b[1;32m   <a href='file:///Users/miles/opt/anaconda3/lib/python3.9/site-packages/matplotlib/__init__.py?line=1408'>1409</a>\u001b[0m \u001b[39m@functools\u001b[39m\u001b[39m.\u001b[39mwraps(func)\n\u001b[1;32m   <a href='file:///Users/miles/opt/anaconda3/lib/python3.9/site-packages/matplotlib/__init__.py?line=1409'>1410</a>\u001b[0m \u001b[39mdef\u001b[39;00m \u001b[39minner\u001b[39m(ax, \u001b[39m*\u001b[39margs, data\u001b[39m=\u001b[39m\u001b[39mNone\u001b[39;00m, \u001b[39m*\u001b[39m\u001b[39m*\u001b[39mkwargs):\n\u001b[1;32m   <a href='file:///Users/miles/opt/anaconda3/lib/python3.9/site-packages/matplotlib/__init__.py?line=1410'>1411</a>\u001b[0m     \u001b[39mif\u001b[39;00m data \u001b[39mis\u001b[39;00m \u001b[39mNone\u001b[39;00m:\n\u001b[0;32m-> <a href='file:///Users/miles/opt/anaconda3/lib/python3.9/site-packages/matplotlib/__init__.py?line=1411'>1412</a>\u001b[0m         \u001b[39mreturn\u001b[39;00m func(ax, \u001b[39m*\u001b[39;49m\u001b[39mmap\u001b[39;49m(sanitize_sequence, args), \u001b[39m*\u001b[39;49m\u001b[39m*\u001b[39;49mkwargs)\n\u001b[1;32m   <a href='file:///Users/miles/opt/anaconda3/lib/python3.9/site-packages/matplotlib/__init__.py?line=1413'>1414</a>\u001b[0m     bound \u001b[39m=\u001b[39m new_sig\u001b[39m.\u001b[39mbind(ax, \u001b[39m*\u001b[39margs, \u001b[39m*\u001b[39m\u001b[39m*\u001b[39mkwargs)\n\u001b[1;32m   <a href='file:///Users/miles/opt/anaconda3/lib/python3.9/site-packages/matplotlib/__init__.py?line=1414'>1415</a>\u001b[0m     auto_label \u001b[39m=\u001b[39m (bound\u001b[39m.\u001b[39marguments\u001b[39m.\u001b[39mget(label_namer)\n\u001b[1;32m   <a href='file:///Users/miles/opt/anaconda3/lib/python3.9/site-packages/matplotlib/__init__.py?line=1415'>1416</a>\u001b[0m                   \u001b[39mor\u001b[39;00m bound\u001b[39m.\u001b[39mkwargs\u001b[39m.\u001b[39mget(label_namer))\n",
      "File \u001b[0;32m~/opt/anaconda3/lib/python3.9/site-packages/matplotlib/axes/_axes.py:4387\u001b[0m, in \u001b[0;36mAxes.scatter\u001b[0;34m(self, x, y, s, c, marker, cmap, norm, vmin, vmax, alpha, linewidths, edgecolors, plotnonfinite, **kwargs)\u001b[0m\n\u001b[1;32m   <a href='file:///Users/miles/opt/anaconda3/lib/python3.9/site-packages/matplotlib/axes/_axes.py?line=4383'>4384</a>\u001b[0m \u001b[39mif\u001b[39;00m edgecolors \u001b[39mis\u001b[39;00m \u001b[39mNone\u001b[39;00m:\n\u001b[1;32m   <a href='file:///Users/miles/opt/anaconda3/lib/python3.9/site-packages/matplotlib/axes/_axes.py?line=4384'>4385</a>\u001b[0m     orig_edgecolor \u001b[39m=\u001b[39m kwargs\u001b[39m.\u001b[39mget(\u001b[39m'\u001b[39m\u001b[39medgecolor\u001b[39m\u001b[39m'\u001b[39m, \u001b[39mNone\u001b[39;00m)\n\u001b[1;32m   <a href='file:///Users/miles/opt/anaconda3/lib/python3.9/site-packages/matplotlib/axes/_axes.py?line=4385'>4386</a>\u001b[0m c, colors, edgecolors \u001b[39m=\u001b[39m \\\n\u001b[0;32m-> <a href='file:///Users/miles/opt/anaconda3/lib/python3.9/site-packages/matplotlib/axes/_axes.py?line=4386'>4387</a>\u001b[0m     \u001b[39mself\u001b[39;49m\u001b[39m.\u001b[39;49m_parse_scatter_color_args(\n\u001b[1;32m   <a href='file:///Users/miles/opt/anaconda3/lib/python3.9/site-packages/matplotlib/axes/_axes.py?line=4387'>4388</a>\u001b[0m         c, edgecolors, kwargs, x\u001b[39m.\u001b[39;49msize,\n\u001b[1;32m   <a href='file:///Users/miles/opt/anaconda3/lib/python3.9/site-packages/matplotlib/axes/_axes.py?line=4388'>4389</a>\u001b[0m         get_next_color_func\u001b[39m=\u001b[39;49m\u001b[39mself\u001b[39;49m\u001b[39m.\u001b[39;49m_get_patches_for_fill\u001b[39m.\u001b[39;49mget_next_color)\n\u001b[1;32m   <a href='file:///Users/miles/opt/anaconda3/lib/python3.9/site-packages/matplotlib/axes/_axes.py?line=4390'>4391</a>\u001b[0m \u001b[39mif\u001b[39;00m plotnonfinite \u001b[39mand\u001b[39;00m colors \u001b[39mis\u001b[39;00m \u001b[39mNone\u001b[39;00m:\n\u001b[1;32m   <a href='file:///Users/miles/opt/anaconda3/lib/python3.9/site-packages/matplotlib/axes/_axes.py?line=4391'>4392</a>\u001b[0m     c \u001b[39m=\u001b[39m np\u001b[39m.\u001b[39mma\u001b[39m.\u001b[39mmasked_invalid(c)\n",
      "File \u001b[0;32m~/opt/anaconda3/lib/python3.9/site-packages/matplotlib/axes/_axes.py:4227\u001b[0m, in \u001b[0;36mAxes._parse_scatter_color_args\u001b[0;34m(c, edgecolors, kwargs, xsize, get_next_color_func)\u001b[0m\n\u001b[1;32m   <a href='file:///Users/miles/opt/anaconda3/lib/python3.9/site-packages/matplotlib/axes/_axes.py?line=4224'>4225</a>\u001b[0m \u001b[39melse\u001b[39;00m:\n\u001b[1;32m   <a href='file:///Users/miles/opt/anaconda3/lib/python3.9/site-packages/matplotlib/axes/_axes.py?line=4225'>4226</a>\u001b[0m     \u001b[39mif\u001b[39;00m \u001b[39mnot\u001b[39;00m valid_shape:\n\u001b[0;32m-> <a href='file:///Users/miles/opt/anaconda3/lib/python3.9/site-packages/matplotlib/axes/_axes.py?line=4226'>4227</a>\u001b[0m         \u001b[39mraise\u001b[39;00m invalid_shape_exception(c\u001b[39m.\u001b[39msize, xsize) \u001b[39mfrom\u001b[39;00m \u001b[39merr\u001b[39;00m\n\u001b[1;32m   <a href='file:///Users/miles/opt/anaconda3/lib/python3.9/site-packages/matplotlib/axes/_axes.py?line=4227'>4228</a>\u001b[0m     \u001b[39m# Both the mapping *and* the RGBA conversion failed: pretty\u001b[39;00m\n\u001b[1;32m   <a href='file:///Users/miles/opt/anaconda3/lib/python3.9/site-packages/matplotlib/axes/_axes.py?line=4228'>4229</a>\u001b[0m     \u001b[39m# severe failure => one may appreciate a verbose feedback.\u001b[39;00m\n\u001b[1;32m   <a href='file:///Users/miles/opt/anaconda3/lib/python3.9/site-packages/matplotlib/axes/_axes.py?line=4229'>4230</a>\u001b[0m     \u001b[39mraise\u001b[39;00m \u001b[39mValueError\u001b[39;00m(\n\u001b[1;32m   <a href='file:///Users/miles/opt/anaconda3/lib/python3.9/site-packages/matplotlib/axes/_axes.py?line=4230'>4231</a>\u001b[0m         \u001b[39mf\u001b[39m\u001b[39m\"\u001b[39m\u001b[39m'\u001b[39m\u001b[39mc\u001b[39m\u001b[39m'\u001b[39m\u001b[39m argument must be a color, a sequence of colors, \u001b[39m\u001b[39m\"\u001b[39m\n\u001b[1;32m   <a href='file:///Users/miles/opt/anaconda3/lib/python3.9/site-packages/matplotlib/axes/_axes.py?line=4231'>4232</a>\u001b[0m         \u001b[39mf\u001b[39m\u001b[39m\"\u001b[39m\u001b[39mor a sequence of numbers, not \u001b[39m\u001b[39m{\u001b[39;00mc\u001b[39m}\u001b[39;00m\u001b[39m\"\u001b[39m) \u001b[39mfrom\u001b[39;00m \u001b[39merr\u001b[39;00m\n",
      "\u001b[0;31mValueError\u001b[0m: 'c' argument has 40 elements, which is inconsistent with 'x' and 'y' with size 39."
     ]
    },
    {
     "data": {
      "image/png": "[encoded data removed]",
      "text/plain": [
       "<Figure size 432x288 with 9 Axes>"
      ]
     },
     "metadata": {
      "needs_background": "light"
     },
     "output_type": "display_data"
    }
   ],
   "source": [
    "scatter_matrix(df[['VIQ', 'MRI_Count', 'Height']],\n",
    "               c=(df['Gender'] == 'Male'),\n",
    "               alpha=1, cmap='winter')\n",
    "\n",
    "fig = plt.gcf()\n",
    "fig.suptitle(\"blue: male, green: female\", size=13)\n",
    "\n",
    "plt.show()"
   ]
  },
  {
   "cell_type": "code",
   "execution_count": 13,
   "metadata": {},
   "outputs": [
    {
     "name": "stderr",
     "output_type": "stream",
     "text": [
      "/var/folders/sn/w009kb0n6zn_x17gcrqvxt2w0000gn/T/ipykernel_5918/4166484928.py:1: UserWarning: Boolean Series key will be reindexed to match DataFrame index.\n",
      "  female_viq = df.dropna()[df['Gender'] == 'Female']['VIQ']\n",
      "/var/folders/sn/w009kb0n6zn_x17gcrqvxt2w0000gn/T/ipykernel_5918/4166484928.py:2: UserWarning: Boolean Series key will be reindexed to match DataFrame index.\n",
      "  male_viq = df.dropna()[df['Gender'] == 'Male']['VIQ']\n"
     ]
    },
    {
     "data": {
      "text/plain": [
       "MannwhitneyuResult(statistic=146.0, pvalue=0.32577163152981836)"
      ]
     },
     "execution_count": 13,
     "metadata": {},
     "output_type": "execute_result"
    }
   ],
   "source": [
    "female_viq = df.dropna()[df['Gender'] == 'Female']['VIQ']\n",
    "male_viq = df.dropna()[df['Gender'] == 'Male']['VIQ']\n",
    "sp.stats.mannwhitneyu(female_viq, male_viq)\n"
   ]
  },
  {
   "cell_type": "markdown",
   "metadata": {},
   "source": [
    "Exercise 4"
   ]
  },
  {
   "cell_type": "markdown",
   "metadata": {},
   "source": [
    "Exercise 5"
   ]
  },
  {
   "cell_type": "code",
   "execution_count": 15,
   "metadata": {},
   "outputs": [
    {
     "ename": "NameError",
     "evalue": "name 'ols' is not defined",
     "output_type": "error",
     "traceback": [
      "\u001b[0;31m---------------------------------------------------------------------------\u001b[0m",
      "\u001b[0;31mNameError\u001b[0m                                 Traceback (most recent call last)",
      "\u001b[1;32m/Users/miles/descriptives-scipy/ds.ipynb Cell 12'\u001b[0m in \u001b[0;36m<cell line: 2>\u001b[0;34m()\u001b[0m\n\u001b[1;32m      <a href='vscode-notebook-cell:/Users/miles/descriptives-scipy/ds.ipynb#ch0000012?line=0'>1</a>\u001b[0m data \u001b[39m=\u001b[39m pd\u001b[39m.\u001b[39mread_csv(\u001b[39m'\u001b[39m\u001b[39mdata/brain_size.csv\u001b[39m\u001b[39m'\u001b[39m, sep\u001b[39m=\u001b[39m\u001b[39m'\u001b[39m\u001b[39m;\u001b[39m\u001b[39m'\u001b[39m, na_values\u001b[39m=\u001b[39m\u001b[39m'\u001b[39m\u001b[39m.\u001b[39m\u001b[39m'\u001b[39m)\n\u001b[0;32m----> <a href='vscode-notebook-cell:/Users/miles/descriptives-scipy/ds.ipynb#ch0000012?line=1'>2</a>\u001b[0m model \u001b[39m=\u001b[39m ols(\u001b[39m'\u001b[39m\u001b[39mVIQ ~ Gender + MRI_Count + Height\u001b[39m\u001b[39m'\u001b[39m, df)\u001b[39m.\u001b[39mfit()\n\u001b[1;32m      <a href='vscode-notebook-cell:/Users/miles/descriptives-scipy/ds.ipynb#ch0000012?line=2'>3</a>\u001b[0m \u001b[39mprint\u001b[39m(model\u001b[39m.\u001b[39msummary())\n\u001b[1;32m      <a href='vscode-notebook-cell:/Users/miles/descriptives-scipy/ds.ipynb#ch0000012?line=3'>4</a>\u001b[0m \u001b[39mprint\u001b[39m(model\u001b[39m.\u001b[39mf_test([\u001b[39m0\u001b[39m, \u001b[39m1\u001b[39m, \u001b[39m0\u001b[39m, \u001b[39m0\u001b[39m]))\n",
      "\u001b[0;31mNameError\u001b[0m: name 'ols' is not defined"
     ]
    }
   ],
   "source": [
    "data = pd.read_csv('data/brain_size.csv')\n",
    "model = ols('VIQ ~ Gender + MRI_Count + Height', df).fit()\n",
    "print(model.summary())\n",
    "print(model.f_test([0, 1, 0, 0]))"
   ]
  },
  {
   "cell_type": "code",
   "execution_count": 32,
   "metadata": {},
   "outputs": [
    {
     "name": "stdout",
     "output_type": "stream",
     "text": [
      "                            OLS Regression Results                            \n",
      "==============================================================================\n",
      "Dep. Variable:                    VIQ   R-squared:                       0.246\n",
      "Model:                            OLS   Adj. R-squared:                  0.181\n",
      "Method:                 Least Squares   F-statistic:                     3.809\n",
      "Date:                Tue, 20 Sep 2022   Prob (F-statistic):             0.0184\n",
      "Time:                        22:19:36   Log-Likelihood:                -172.34\n",
      "No. Observations:                  39   AIC:                             352.7\n",
      "Df Residuals:                      35   BIC:                             359.3\n",
      "Df Model:                           3                                         \n",
      "Covariance Type:            nonrobust                                         \n",
      "==================================================================================\n",
      "                     coef    std err          t      P>|t|      [0.025      0.975]\n",
      "----------------------------------------------------------------------------------\n",
      "Intercept        166.6258     88.824      1.876      0.069     -13.696     346.948\n",
      "Gender[T.Male]     8.8524     10.710      0.827      0.414     -12.890      30.595\n",
      "MRI_Count          0.0002   6.46e-05      2.615      0.013    3.78e-05       0.000\n",
      "Height            -3.0837      1.276     -2.417      0.021      -5.674      -0.494\n",
      "==============================================================================\n",
      "Omnibus:                        7.373   Durbin-Watson:                   2.109\n",
      "Prob(Omnibus):                  0.025   Jarque-Bera (JB):                2.252\n",
      "Skew:                           0.005   Prob(JB):                        0.324\n",
      "Kurtosis:                       1.823   Cond. No.                     2.40e+07\n",
      "==============================================================================\n",
      "\n",
      "Notes:\n",
      "[1] Standard Errors assume that the covariance matrix of the errors is correctly specified.\n",
      "[2] The condition number is large, 2.4e+07. This might indicate that there are\n",
      "strong multicollinearity or other numerical problems.\n",
      "<F test: F=0.683196084584226, p=0.4140878441244722, df_denom=35, df_num=1>\n"
     ]
    }
   ],
   "source": [
    "df = pd.read_csv('data/brain_size.csv', sep=';', na_values='.')\n",
    "model = ols('VIQ ~ Gender + MRI_Count + Height', df).fit()\n",
    "print(model.summary())\n",
    "print(model.f_test([0, 1, 0, 0]))"
   ]
  }
 ],
 "metadata": {
  "interpreter": {
   "hash": "b5591d4b5c4fc051220937d37017034defc58efa2671f066bd82f1fad4b6a3e3"
  },
  "kernelspec": {
   "display_name": "Python 3.9.12 ('base')",
   "language": "python",
   "name": "python3"
  },
  "language_info": {
   "codemirror_mode": {
    "name": "ipython",
    "version": 3
   },
   "file_extension": ".py",
   "mimetype": "text/x-python",
   "name": "python",
   "nbconvert_exporter": "python",
   "pygments_lexer": "ipython3",
   "version": "3.9.12"
  },
  "orig_nbformat": 4
 },
 "nbformat": 4,
 "nbformat_minor": 2
}
